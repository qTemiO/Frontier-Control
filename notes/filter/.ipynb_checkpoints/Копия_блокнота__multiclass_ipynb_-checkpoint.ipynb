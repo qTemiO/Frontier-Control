{
 "cells": [
  {
   "cell_type": "code",
   "execution_count": null,
   "metadata": {
    "id": "zDXdyja68nbQ"
   },
   "outputs": [],
   "source": [
    "import pandas as pd\n",
    "import numpy as np\n",
    "from tqdm.auto import tqdm, trange"
   ]
  },
  {
   "cell_type": "code",
   "execution_count": null,
   "metadata": {
    "colab": {
     "base_uri": "https://localhost:8080/",
     "height": 376
    },
    "id": "vzymwP6rjlfN",
    "outputId": "b73dfbb6-769b-4b0e-c075-0d9c6dd9c4c6"
   },
   "outputs": [
    {
     "ename": "FileNotFoundError",
     "evalue": "ignored",
     "output_type": "error",
     "traceback": [
      "\u001b[0;31m---------------------------------------------------------------------------\u001b[0m",
      "\u001b[0;31mFileNotFoundError\u001b[0m                         Traceback (most recent call last)",
      "\u001b[0;32m<ipython-input-5-04243c11c776>\u001b[0m in \u001b[0;36m<module>\u001b[0;34m()\u001b[0m\n\u001b[0;32m----> 1\u001b[0;31m \u001b[0mdata\u001b[0m \u001b[0;34m=\u001b[0m \u001b[0mpd\u001b[0m\u001b[0;34m.\u001b[0m\u001b[0mread_csv\u001b[0m\u001b[0;34m(\u001b[0m\u001b[0;34m'lenta-ru-news.csv'\u001b[0m\u001b[0;34m)\u001b[0m\u001b[0;34m\u001b[0m\u001b[0;34m\u001b[0m\u001b[0m\n\u001b[0m",
      "\u001b[0;32m/usr/local/lib/python3.7/dist-packages/pandas/io/parsers.py\u001b[0m in \u001b[0;36mread_csv\u001b[0;34m(filepath_or_buffer, sep, delimiter, header, names, index_col, usecols, squeeze, prefix, mangle_dupe_cols, dtype, engine, converters, true_values, false_values, skipinitialspace, skiprows, skipfooter, nrows, na_values, keep_default_na, na_filter, verbose, skip_blank_lines, parse_dates, infer_datetime_format, keep_date_col, date_parser, dayfirst, cache_dates, iterator, chunksize, compression, thousands, decimal, lineterminator, quotechar, quoting, doublequote, escapechar, comment, encoding, dialect, error_bad_lines, warn_bad_lines, delim_whitespace, low_memory, memory_map, float_precision)\u001b[0m\n\u001b[1;32m    686\u001b[0m     )\n\u001b[1;32m    687\u001b[0m \u001b[0;34m\u001b[0m\u001b[0m\n\u001b[0;32m--> 688\u001b[0;31m     \u001b[0;32mreturn\u001b[0m \u001b[0m_read\u001b[0m\u001b[0;34m(\u001b[0m\u001b[0mfilepath_or_buffer\u001b[0m\u001b[0;34m,\u001b[0m \u001b[0mkwds\u001b[0m\u001b[0;34m)\u001b[0m\u001b[0;34m\u001b[0m\u001b[0;34m\u001b[0m\u001b[0m\n\u001b[0m\u001b[1;32m    689\u001b[0m \u001b[0;34m\u001b[0m\u001b[0m\n\u001b[1;32m    690\u001b[0m \u001b[0;34m\u001b[0m\u001b[0m\n",
      "\u001b[0;32m/usr/local/lib/python3.7/dist-packages/pandas/io/parsers.py\u001b[0m in \u001b[0;36m_read\u001b[0;34m(filepath_or_buffer, kwds)\u001b[0m\n\u001b[1;32m    452\u001b[0m \u001b[0;34m\u001b[0m\u001b[0m\n\u001b[1;32m    453\u001b[0m     \u001b[0;31m# Create the parser.\u001b[0m\u001b[0;34m\u001b[0m\u001b[0;34m\u001b[0m\u001b[0;34m\u001b[0m\u001b[0m\n\u001b[0;32m--> 454\u001b[0;31m     \u001b[0mparser\u001b[0m \u001b[0;34m=\u001b[0m \u001b[0mTextFileReader\u001b[0m\u001b[0;34m(\u001b[0m\u001b[0mfp_or_buf\u001b[0m\u001b[0;34m,\u001b[0m \u001b[0;34m**\u001b[0m\u001b[0mkwds\u001b[0m\u001b[0;34m)\u001b[0m\u001b[0;34m\u001b[0m\u001b[0;34m\u001b[0m\u001b[0m\n\u001b[0m\u001b[1;32m    455\u001b[0m \u001b[0;34m\u001b[0m\u001b[0m\n\u001b[1;32m    456\u001b[0m     \u001b[0;32mif\u001b[0m \u001b[0mchunksize\u001b[0m \u001b[0;32mor\u001b[0m \u001b[0miterator\u001b[0m\u001b[0;34m:\u001b[0m\u001b[0;34m\u001b[0m\u001b[0;34m\u001b[0m\u001b[0m\n",
      "\u001b[0;32m/usr/local/lib/python3.7/dist-packages/pandas/io/parsers.py\u001b[0m in \u001b[0;36m__init__\u001b[0;34m(self, f, engine, **kwds)\u001b[0m\n\u001b[1;32m    946\u001b[0m             \u001b[0mself\u001b[0m\u001b[0;34m.\u001b[0m\u001b[0moptions\u001b[0m\u001b[0;34m[\u001b[0m\u001b[0;34m\"has_index_names\"\u001b[0m\u001b[0;34m]\u001b[0m \u001b[0;34m=\u001b[0m \u001b[0mkwds\u001b[0m\u001b[0;34m[\u001b[0m\u001b[0;34m\"has_index_names\"\u001b[0m\u001b[0;34m]\u001b[0m\u001b[0;34m\u001b[0m\u001b[0;34m\u001b[0m\u001b[0m\n\u001b[1;32m    947\u001b[0m \u001b[0;34m\u001b[0m\u001b[0m\n\u001b[0;32m--> 948\u001b[0;31m         \u001b[0mself\u001b[0m\u001b[0;34m.\u001b[0m\u001b[0m_make_engine\u001b[0m\u001b[0;34m(\u001b[0m\u001b[0mself\u001b[0m\u001b[0;34m.\u001b[0m\u001b[0mengine\u001b[0m\u001b[0;34m)\u001b[0m\u001b[0;34m\u001b[0m\u001b[0;34m\u001b[0m\u001b[0m\n\u001b[0m\u001b[1;32m    949\u001b[0m \u001b[0;34m\u001b[0m\u001b[0m\n\u001b[1;32m    950\u001b[0m     \u001b[0;32mdef\u001b[0m \u001b[0mclose\u001b[0m\u001b[0;34m(\u001b[0m\u001b[0mself\u001b[0m\u001b[0;34m)\u001b[0m\u001b[0;34m:\u001b[0m\u001b[0;34m\u001b[0m\u001b[0;34m\u001b[0m\u001b[0m\n",
      "\u001b[0;32m/usr/local/lib/python3.7/dist-packages/pandas/io/parsers.py\u001b[0m in \u001b[0;36m_make_engine\u001b[0;34m(self, engine)\u001b[0m\n\u001b[1;32m   1178\u001b[0m     \u001b[0;32mdef\u001b[0m \u001b[0m_make_engine\u001b[0m\u001b[0;34m(\u001b[0m\u001b[0mself\u001b[0m\u001b[0;34m,\u001b[0m \u001b[0mengine\u001b[0m\u001b[0;34m=\u001b[0m\u001b[0;34m\"c\"\u001b[0m\u001b[0;34m)\u001b[0m\u001b[0;34m:\u001b[0m\u001b[0;34m\u001b[0m\u001b[0;34m\u001b[0m\u001b[0m\n\u001b[1;32m   1179\u001b[0m         \u001b[0;32mif\u001b[0m \u001b[0mengine\u001b[0m \u001b[0;34m==\u001b[0m \u001b[0;34m\"c\"\u001b[0m\u001b[0;34m:\u001b[0m\u001b[0;34m\u001b[0m\u001b[0;34m\u001b[0m\u001b[0m\n\u001b[0;32m-> 1180\u001b[0;31m             \u001b[0mself\u001b[0m\u001b[0;34m.\u001b[0m\u001b[0m_engine\u001b[0m \u001b[0;34m=\u001b[0m \u001b[0mCParserWrapper\u001b[0m\u001b[0;34m(\u001b[0m\u001b[0mself\u001b[0m\u001b[0;34m.\u001b[0m\u001b[0mf\u001b[0m\u001b[0;34m,\u001b[0m \u001b[0;34m**\u001b[0m\u001b[0mself\u001b[0m\u001b[0;34m.\u001b[0m\u001b[0moptions\u001b[0m\u001b[0;34m)\u001b[0m\u001b[0;34m\u001b[0m\u001b[0;34m\u001b[0m\u001b[0m\n\u001b[0m\u001b[1;32m   1181\u001b[0m         \u001b[0;32melse\u001b[0m\u001b[0;34m:\u001b[0m\u001b[0;34m\u001b[0m\u001b[0;34m\u001b[0m\u001b[0m\n\u001b[1;32m   1182\u001b[0m             \u001b[0;32mif\u001b[0m \u001b[0mengine\u001b[0m \u001b[0;34m==\u001b[0m \u001b[0;34m\"python\"\u001b[0m\u001b[0;34m:\u001b[0m\u001b[0;34m\u001b[0m\u001b[0;34m\u001b[0m\u001b[0m\n",
      "\u001b[0;32m/usr/local/lib/python3.7/dist-packages/pandas/io/parsers.py\u001b[0m in \u001b[0;36m__init__\u001b[0;34m(self, src, **kwds)\u001b[0m\n\u001b[1;32m   2008\u001b[0m         \u001b[0mkwds\u001b[0m\u001b[0;34m[\u001b[0m\u001b[0;34m\"usecols\"\u001b[0m\u001b[0;34m]\u001b[0m \u001b[0;34m=\u001b[0m \u001b[0mself\u001b[0m\u001b[0;34m.\u001b[0m\u001b[0musecols\u001b[0m\u001b[0;34m\u001b[0m\u001b[0;34m\u001b[0m\u001b[0m\n\u001b[1;32m   2009\u001b[0m \u001b[0;34m\u001b[0m\u001b[0m\n\u001b[0;32m-> 2010\u001b[0;31m         \u001b[0mself\u001b[0m\u001b[0;34m.\u001b[0m\u001b[0m_reader\u001b[0m \u001b[0;34m=\u001b[0m \u001b[0mparsers\u001b[0m\u001b[0;34m.\u001b[0m\u001b[0mTextReader\u001b[0m\u001b[0;34m(\u001b[0m\u001b[0msrc\u001b[0m\u001b[0;34m,\u001b[0m \u001b[0;34m**\u001b[0m\u001b[0mkwds\u001b[0m\u001b[0;34m)\u001b[0m\u001b[0;34m\u001b[0m\u001b[0;34m\u001b[0m\u001b[0m\n\u001b[0m\u001b[1;32m   2011\u001b[0m         \u001b[0mself\u001b[0m\u001b[0;34m.\u001b[0m\u001b[0munnamed_cols\u001b[0m \u001b[0;34m=\u001b[0m \u001b[0mself\u001b[0m\u001b[0;34m.\u001b[0m\u001b[0m_reader\u001b[0m\u001b[0;34m.\u001b[0m\u001b[0munnamed_cols\u001b[0m\u001b[0;34m\u001b[0m\u001b[0;34m\u001b[0m\u001b[0m\n\u001b[1;32m   2012\u001b[0m \u001b[0;34m\u001b[0m\u001b[0m\n",
      "\u001b[0;32mpandas/_libs/parsers.pyx\u001b[0m in \u001b[0;36mpandas._libs.parsers.TextReader.__cinit__\u001b[0;34m()\u001b[0m\n",
      "\u001b[0;32mpandas/_libs/parsers.pyx\u001b[0m in \u001b[0;36mpandas._libs.parsers.TextReader._setup_parser_source\u001b[0;34m()\u001b[0m\n",
      "\u001b[0;31mFileNotFoundError\u001b[0m: [Errno 2] No such file or directory: 'lenta-ru-news.csv'"
     ]
    }
   ],
   "source": [
    "data = pd.read_csv('lenta-ru-news.csv')"
   ]
  },
  {
   "cell_type": "code",
   "execution_count": null,
   "metadata": {
    "id": "eK1Gjo3w8nbf"
   },
   "outputs": [],
   "source": [
    "data.shape"
   ]
  },
  {
   "cell_type": "code",
   "execution_count": null,
   "metadata": {
    "id": "dJcDHaIrjeGZ"
   },
   "outputs": [],
   "source": [
    "!unzip my_data.zip -d my_data"
   ]
  },
  {
   "cell_type": "code",
   "execution_count": null,
   "metadata": {
    "id": "Bd2tiAvM8nbg"
   },
   "outputs": [],
   "source": [
    "data = data[:100000]"
   ]
  },
  {
   "cell_type": "code",
   "execution_count": null,
   "metadata": {
    "id": "C2QuprEY8nbg",
    "outputId": "813c3d09-364c-451e-acd1-f21b506b62a3"
   },
   "outputs": [
    {
     "data": {
      "text/html": [
       "<div>\n",
       "<style scoped>\n",
       "    .dataframe tbody tr th:only-of-type {\n",
       "        vertical-align: middle;\n",
       "    }\n",
       "\n",
       "    .dataframe tbody tr th {\n",
       "        vertical-align: top;\n",
       "    }\n",
       "\n",
       "    .dataframe thead th {\n",
       "        text-align: right;\n",
       "    }\n",
       "</style>\n",
       "<table border=\"1\" class=\"dataframe\">\n",
       "  <thead>\n",
       "    <tr style=\"text-align: right;\">\n",
       "      <th></th>\n",
       "      <th>url</th>\n",
       "      <th>title</th>\n",
       "      <th>text</th>\n",
       "      <th>topic</th>\n",
       "      <th>tags</th>\n",
       "    </tr>\n",
       "  </thead>\n",
       "  <tbody>\n",
       "    <tr>\n",
       "      <th>0</th>\n",
       "      <td>https://lenta.ru/news/2018/12/14/cancer/</td>\n",
       "      <td>Названы регионы России с самой высокой смертно...</td>\n",
       "      <td>Вице-премьер по социальным вопросам Татьяна Го...</td>\n",
       "      <td>Россия</td>\n",
       "      <td>Общество</td>\n",
       "    </tr>\n",
       "    <tr>\n",
       "      <th>1</th>\n",
       "      <td>https://lenta.ru/news/2018/12/15/doping/</td>\n",
       "      <td>Австрия не представила доказательств вины росс...</td>\n",
       "      <td>Австрийские правоохранительные органы не предс...</td>\n",
       "      <td>Спорт</td>\n",
       "      <td>Зимние виды</td>\n",
       "    </tr>\n",
       "    <tr>\n",
       "      <th>2</th>\n",
       "      <td>https://lenta.ru/news/2018/12/15/disneyland/</td>\n",
       "      <td>Обнаружено самое счастливое место на планете</td>\n",
       "      <td>Сотрудники социальной сети Instagram проанализ...</td>\n",
       "      <td>Путешествия</td>\n",
       "      <td>Мир</td>\n",
       "    </tr>\n",
       "    <tr>\n",
       "      <th>3</th>\n",
       "      <td>https://lenta.ru/news/2018/12/15/usa25/</td>\n",
       "      <td>В США раскрыли сумму расходов на расследование...</td>\n",
       "      <td>С начала расследования российского вмешательст...</td>\n",
       "      <td>Мир</td>\n",
       "      <td>Политика</td>\n",
       "    </tr>\n",
       "    <tr>\n",
       "      <th>4</th>\n",
       "      <td>https://lenta.ru/news/2018/12/15/integrity/</td>\n",
       "      <td>Хакеры рассказали о планах Великобритании зами...</td>\n",
       "      <td>Хакерская группировка Anonymous опубликовала н...</td>\n",
       "      <td>Мир</td>\n",
       "      <td>Общество</td>\n",
       "    </tr>\n",
       "  </tbody>\n",
       "</table>\n",
       "</div>"
      ],
      "text/plain": [
       "                                            url  \\\n",
       "0      https://lenta.ru/news/2018/12/14/cancer/   \n",
       "1      https://lenta.ru/news/2018/12/15/doping/   \n",
       "2  https://lenta.ru/news/2018/12/15/disneyland/   \n",
       "3       https://lenta.ru/news/2018/12/15/usa25/   \n",
       "4   https://lenta.ru/news/2018/12/15/integrity/   \n",
       "\n",
       "                                               title  \\\n",
       "0  Названы регионы России с самой высокой смертно...   \n",
       "1  Австрия не представила доказательств вины росс...   \n",
       "2       Обнаружено самое счастливое место на планете   \n",
       "3  В США раскрыли сумму расходов на расследование...   \n",
       "4  Хакеры рассказали о планах Великобритании зами...   \n",
       "\n",
       "                                                text        topic         tags  \n",
       "0  Вице-премьер по социальным вопросам Татьяна Го...       Россия     Общество  \n",
       "1  Австрийские правоохранительные органы не предс...        Спорт  Зимние виды  \n",
       "2  Сотрудники социальной сети Instagram проанализ...  Путешествия          Мир  \n",
       "3  С начала расследования российского вмешательст...          Мир     Политика  \n",
       "4  Хакерская группировка Anonymous опубликовала н...          Мир     Общество  "
      ]
     },
     "execution_count": 6,
     "metadata": {
      "tags": []
     },
     "output_type": "execute_result"
    }
   ],
   "source": [
    "data.head(5)"
   ]
  },
  {
   "cell_type": "code",
   "execution_count": null,
   "metadata": {
    "id": "EzMWBX748nbh",
    "outputId": "db0039c9-c214-4119-d424-ead736d160ca"
   },
   "outputs": [
    {
     "name": "stdout",
     "output_type": "stream",
     "text": [
      "['Общество' 'Зимние виды' 'Мир' 'Политика' 'Украина' 'Coцсети'\n",
      " 'Следствие и суд' 'Хоккей' 'Деньги' 'Госэкономика' 'Происшествия'\n",
      " 'Футбол' 'Бизнес' 'Музыка' 'Квартира' 'Бокс и ММА' 'Театр' 'Оружие'\n",
      " 'Дача' 'Прибалтика' 'Рынки' 'Звери' 'Техника' 'Интернет' 'Люди' 'Наука'\n",
      " 'Внешний вид' 'Кино' 'ТВ и радио' 'Регионы' 'Космос' 'Явления' 'Стиль'\n",
      " 'Белоруссия' 'События' 'Деловой климат' 'Все' 'Искусство' 'Движение'\n",
      " 'Преступность' 'Криминал' 'Жизнь' 'Мнения' 'Полиция и спецслужбы'\n",
      " 'Конфликты' 'Авто' 'Книги' 'Вкусы' 'Фотография' 'Реклама' 'Закавказье'\n",
      " nan 'Часы' 'Летние виды' 'Россия' 'Пресса' 'Вещи' 'История' 'Игры'\n",
      " 'Достижения' 'Офис' 'Средняя Азия' 'Еда' 'Москва' 'Социальная сфера'\n",
      " 'Молдавия' 'Преступная Россия' 'Гаджеты' 'Город' 'Киберпреступность'\n",
      " 'Страноведение' 'Софт' 'Инструменты' 'Вирусные ролики' 'Экология'\n",
      " 'Выборы' 'Мемы' 'Наследие' 'Туризм' 'Вооружение' 'Мировой бизнес'\n",
      " 'Автобизнес' 'Финансы компаний'] 83\n"
     ]
    }
   ],
   "source": [
    "print(data['tags'].unique(), len(data['tags'].unique()))"
   ]
  },
  {
   "cell_type": "code",
   "execution_count": null,
   "metadata": {
    "id": "096184Lw8nbh",
    "outputId": "7f1261cb-1f4e-4445-cc11-dc2f7b9991bf"
   },
   "outputs": [
    {
     "name": "stdout",
     "output_type": "stream",
     "text": [
      "['Россия' 'Спорт' 'Путешествия' 'Мир' 'Бывший СССР' 'Интернет и СМИ'\n",
      " 'Силовые структуры' 'Экономика' 'Культура' 'Дом' 'Наука и техника'\n",
      " 'Из жизни' 'Ценности' 'Бизнес' '69-я параллель' nan 'Культпросвет '\n",
      " 'Крым' 'Оружие'] 19\n"
     ]
    }
   ],
   "source": [
    "print(data['topic'].unique(), len(data['topic'].unique()))"
   ]
  },
  {
   "cell_type": "markdown",
   "metadata": {
    "id": "jaKHEe1c8nbi"
   },
   "source": [
    "## Выборка данных"
   ]
  },
  {
   "cell_type": "code",
   "execution_count": null,
   "metadata": {
    "id": "faPKG8SV8nbj"
   },
   "outputs": [],
   "source": [
    "topics = ['Путешествия', 'Ценности', 'Мир', 'Наука и техника', 'Экономика']\n",
    "news_in_cat_count = 2000"
   ]
  },
  {
   "cell_type": "code",
   "execution_count": null,
   "metadata": {
    "colab": {
     "base_uri": "https://localhost:8080/",
     "height": 233
    },
    "id": "rSv5dEJ88nbj",
    "outputId": "1138acbb-3ef7-47c4-e6f6-985a06a9fe32"
   },
   "outputs": [
    {
     "ename": "NameError",
     "evalue": "ignored",
     "output_type": "error",
     "traceback": [
      "\u001b[0;31m---------------------------------------------------------------------------\u001b[0m",
      "\u001b[0;31mNameError\u001b[0m                                 Traceback (most recent call last)",
      "\u001b[0;32m<ipython-input-2-b2df2f993f33>\u001b[0m in \u001b[0;36m<module>\u001b[0;34m()\u001b[0m\n\u001b[0;32m----> 1\u001b[0;31m \u001b[0mdf_res\u001b[0m \u001b[0;34m=\u001b[0m \u001b[0mpd\u001b[0m\u001b[0;34m.\u001b[0m\u001b[0mDataFrame\u001b[0m\u001b[0;34m(\u001b[0m\u001b[0;34m)\u001b[0m\u001b[0;34m\u001b[0m\u001b[0;34m\u001b[0m\u001b[0m\n\u001b[0m\u001b[1;32m      2\u001b[0m \u001b[0;34m\u001b[0m\u001b[0m\n\u001b[1;32m      3\u001b[0m \u001b[0;32mfor\u001b[0m \u001b[0mtopic\u001b[0m \u001b[0;32min\u001b[0m \u001b[0mtqdm\u001b[0m\u001b[0;34m(\u001b[0m\u001b[0mtopics\u001b[0m\u001b[0;34m)\u001b[0m\u001b[0;34m:\u001b[0m\u001b[0;34m\u001b[0m\u001b[0;34m\u001b[0m\u001b[0m\n\u001b[1;32m      4\u001b[0m     \u001b[0mdf_topic\u001b[0m \u001b[0;34m=\u001b[0m \u001b[0mdata\u001b[0m\u001b[0;34m[\u001b[0m\u001b[0mdata\u001b[0m\u001b[0;34m[\u001b[0m\u001b[0;34m'topic'\u001b[0m\u001b[0;34m]\u001b[0m \u001b[0;34m==\u001b[0m \u001b[0mtopic\u001b[0m\u001b[0;34m]\u001b[0m\u001b[0;34m[\u001b[0m\u001b[0;34m:\u001b[0m\u001b[0mnews_in_cat_count\u001b[0m\u001b[0;34m]\u001b[0m\u001b[0;34m\u001b[0m\u001b[0;34m\u001b[0m\u001b[0m\n\u001b[1;32m      5\u001b[0m     \u001b[0mdf_res\u001b[0m \u001b[0;34m=\u001b[0m \u001b[0mdf_res\u001b[0m\u001b[0;34m.\u001b[0m\u001b[0mappend\u001b[0m\u001b[0;34m(\u001b[0m\u001b[0mdf_topic\u001b[0m\u001b[0;34m,\u001b[0m \u001b[0mignore_index\u001b[0m\u001b[0;34m=\u001b[0m\u001b[0;32mTrue\u001b[0m\u001b[0;34m)\u001b[0m\u001b[0;34m\u001b[0m\u001b[0;34m\u001b[0m\u001b[0m\n",
      "\u001b[0;31mNameError\u001b[0m: name 'pd' is not defined"
     ]
    }
   ],
   "source": [
    "df_res = pd.DataFrame()\n",
    "\n",
    "for topic in tqdm(topics):\n",
    "    df_topic = data[data['topic'] == topic][:news_in_cat_count]\n",
    "    df_res = df_res.append(df_topic, ignore_index=True)"
   ]
  },
  {
   "cell_type": "code",
   "execution_count": null,
   "metadata": {
    "id": "W0aTQ6o58nbk",
    "outputId": "9d6e782f-bc89-4667-f63d-fa50fb5ab99c"
   },
   "outputs": [
    {
     "data": {
      "text/plain": [
       "(10000, 6)"
      ]
     },
     "execution_count": 100,
     "metadata": {
      "tags": []
     },
     "output_type": "execute_result"
    }
   ],
   "source": [
    "df_res.shape"
   ]
  },
  {
   "cell_type": "markdown",
   "metadata": {
    "id": "t26pYkM08nbl"
   },
   "source": [
    "## Предобработка"
   ]
  },
  {
   "cell_type": "code",
   "execution_count": null,
   "metadata": {
    "colab": {
     "base_uri": "https://localhost:8080/",
     "height": 1000
    },
    "id": "IzESShul8nbl",
    "outputId": "d1584ffb-c39f-4a2f-e85b-50e135648932"
   },
   "outputs": [
    {
     "name": "stderr",
     "output_type": "stream",
     "text": [
      "Installing mystem to /root/.local/bin/mystem from http://download.cdn.yandex.net/mystem/mystem-3.1-linux-64bit.tar.gz\n"
     ]
    },
    {
     "ename": "LookupError",
     "evalue": "ignored",
     "output_type": "error",
     "traceback": [
      "\u001b[0;31m---------------------------------------------------------------------------\u001b[0m",
      "\u001b[0;31mLookupError\u001b[0m                               Traceback (most recent call last)",
      "\u001b[0;32m/usr/local/lib/python3.7/dist-packages/nltk/corpus/util.py\u001b[0m in \u001b[0;36m__load\u001b[0;34m(self)\u001b[0m\n\u001b[1;32m     79\u001b[0m             \u001b[0;32mexcept\u001b[0m \u001b[0mLookupError\u001b[0m \u001b[0;32mas\u001b[0m \u001b[0me\u001b[0m\u001b[0;34m:\u001b[0m\u001b[0;34m\u001b[0m\u001b[0;34m\u001b[0m\u001b[0m\n\u001b[0;32m---> 80\u001b[0;31m                 \u001b[0;32mtry\u001b[0m\u001b[0;34m:\u001b[0m \u001b[0mroot\u001b[0m \u001b[0;34m=\u001b[0m \u001b[0mnltk\u001b[0m\u001b[0;34m.\u001b[0m\u001b[0mdata\u001b[0m\u001b[0;34m.\u001b[0m\u001b[0mfind\u001b[0m\u001b[0;34m(\u001b[0m\u001b[0;34m'{}/{}'\u001b[0m\u001b[0;34m.\u001b[0m\u001b[0mformat\u001b[0m\u001b[0;34m(\u001b[0m\u001b[0mself\u001b[0m\u001b[0;34m.\u001b[0m\u001b[0msubdir\u001b[0m\u001b[0;34m,\u001b[0m \u001b[0mzip_name\u001b[0m\u001b[0;34m)\u001b[0m\u001b[0;34m)\u001b[0m\u001b[0;34m\u001b[0m\u001b[0;34m\u001b[0m\u001b[0m\n\u001b[0m\u001b[1;32m     81\u001b[0m                 \u001b[0;32mexcept\u001b[0m \u001b[0mLookupError\u001b[0m\u001b[0;34m:\u001b[0m \u001b[0;32mraise\u001b[0m \u001b[0me\u001b[0m\u001b[0;34m\u001b[0m\u001b[0;34m\u001b[0m\u001b[0m\n",
      "\u001b[0;32m/usr/local/lib/python3.7/dist-packages/nltk/data.py\u001b[0m in \u001b[0;36mfind\u001b[0;34m(resource_name, paths)\u001b[0m\n\u001b[1;32m    672\u001b[0m     \u001b[0mresource_not_found\u001b[0m \u001b[0;34m=\u001b[0m \u001b[0;34m'\\n%s\\n%s\\n%s\\n'\u001b[0m \u001b[0;34m%\u001b[0m \u001b[0;34m(\u001b[0m\u001b[0msep\u001b[0m\u001b[0;34m,\u001b[0m \u001b[0mmsg\u001b[0m\u001b[0;34m,\u001b[0m \u001b[0msep\u001b[0m\u001b[0;34m)\u001b[0m\u001b[0;34m\u001b[0m\u001b[0;34m\u001b[0m\u001b[0m\n\u001b[0;32m--> 673\u001b[0;31m     \u001b[0;32mraise\u001b[0m \u001b[0mLookupError\u001b[0m\u001b[0;34m(\u001b[0m\u001b[0mresource_not_found\u001b[0m\u001b[0;34m)\u001b[0m\u001b[0;34m\u001b[0m\u001b[0;34m\u001b[0m\u001b[0m\n\u001b[0m\u001b[1;32m    674\u001b[0m \u001b[0;34m\u001b[0m\u001b[0m\n",
      "\u001b[0;31mLookupError\u001b[0m: \n**********************************************************************\n  Resource \u001b[93mstopwords\u001b[0m not found.\n  Please use the NLTK Downloader to obtain the resource:\n\n  \u001b[31m>>> import nltk\n  >>> nltk.download('stopwords')\n  \u001b[0m\n  Searched in:\n    - '/root/nltk_data'\n    - '/usr/share/nltk_data'\n    - '/usr/local/share/nltk_data'\n    - '/usr/lib/nltk_data'\n    - '/usr/local/lib/nltk_data'\n    - '/usr/nltk_data'\n    - '/usr/lib/nltk_data'\n**********************************************************************\n",
      "\nDuring handling of the above exception, another exception occurred:\n",
      "\u001b[0;31mLookupError\u001b[0m                               Traceback (most recent call last)",
      "\u001b[0;32m<ipython-input-1-4aa17f499731>\u001b[0m in \u001b[0;36m<module>\u001b[0;34m()\u001b[0m\n\u001b[1;32m     16\u001b[0m \u001b[0mmystem\u001b[0m \u001b[0;34m=\u001b[0m \u001b[0mMystem\u001b[0m\u001b[0;34m(\u001b[0m\u001b[0;34m)\u001b[0m\u001b[0;34m\u001b[0m\u001b[0;34m\u001b[0m\u001b[0m\n\u001b[1;32m     17\u001b[0m \u001b[0;34m\u001b[0m\u001b[0m\n\u001b[0;32m---> 18\u001b[0;31m \u001b[0mrussian_stopwords\u001b[0m \u001b[0;34m=\u001b[0m \u001b[0mstopwords\u001b[0m\u001b[0;34m.\u001b[0m\u001b[0mwords\u001b[0m\u001b[0;34m(\u001b[0m\u001b[0;34m\"russian\"\u001b[0m\u001b[0;34m)\u001b[0m\u001b[0;34m\u001b[0m\u001b[0;34m\u001b[0m\u001b[0m\n\u001b[0m\u001b[1;32m     19\u001b[0m \u001b[0mrussian_stopwords\u001b[0m\u001b[0;34m.\u001b[0m\u001b[0mextend\u001b[0m\u001b[0;34m(\u001b[0m\u001b[0;34m[\u001b[0m\u001b[0;34m'…'\u001b[0m\u001b[0;34m,\u001b[0m \u001b[0;34m'«'\u001b[0m\u001b[0;34m,\u001b[0m \u001b[0;34m'»'\u001b[0m\u001b[0;34m,\u001b[0m \u001b[0;34m'...'\u001b[0m\u001b[0;34m]\u001b[0m\u001b[0;34m)\u001b[0m\u001b[0;34m\u001b[0m\u001b[0;34m\u001b[0m\u001b[0m\n\u001b[1;32m     20\u001b[0m \u001b[0;32mdef\u001b[0m \u001b[0mlemmatize_text\u001b[0m\u001b[0;34m(\u001b[0m\u001b[0mtext\u001b[0m\u001b[0;34m)\u001b[0m\u001b[0;34m:\u001b[0m\u001b[0;34m\u001b[0m\u001b[0;34m\u001b[0m\u001b[0m\n",
      "\u001b[0;32m/usr/local/lib/python3.7/dist-packages/nltk/corpus/util.py\u001b[0m in \u001b[0;36m__getattr__\u001b[0;34m(self, attr)\u001b[0m\n\u001b[1;32m    114\u001b[0m             \u001b[0;32mraise\u001b[0m \u001b[0mAttributeError\u001b[0m\u001b[0;34m(\u001b[0m\u001b[0;34m\"LazyCorpusLoader object has no attribute '__bases__'\"\u001b[0m\u001b[0;34m)\u001b[0m\u001b[0;34m\u001b[0m\u001b[0;34m\u001b[0m\u001b[0m\n\u001b[1;32m    115\u001b[0m \u001b[0;34m\u001b[0m\u001b[0m\n\u001b[0;32m--> 116\u001b[0;31m         \u001b[0mself\u001b[0m\u001b[0;34m.\u001b[0m\u001b[0m__load\u001b[0m\u001b[0;34m(\u001b[0m\u001b[0;34m)\u001b[0m\u001b[0;34m\u001b[0m\u001b[0;34m\u001b[0m\u001b[0m\n\u001b[0m\u001b[1;32m    117\u001b[0m         \u001b[0;31m# This looks circular, but its not, since __load() changes our\u001b[0m\u001b[0;34m\u001b[0m\u001b[0;34m\u001b[0m\u001b[0;34m\u001b[0m\u001b[0m\n\u001b[1;32m    118\u001b[0m         \u001b[0;31m# __class__ to something new:\u001b[0m\u001b[0;34m\u001b[0m\u001b[0;34m\u001b[0m\u001b[0;34m\u001b[0m\u001b[0m\n",
      "\u001b[0;32m/usr/local/lib/python3.7/dist-packages/nltk/corpus/util.py\u001b[0m in \u001b[0;36m__load\u001b[0;34m(self)\u001b[0m\n\u001b[1;32m     79\u001b[0m             \u001b[0;32mexcept\u001b[0m \u001b[0mLookupError\u001b[0m \u001b[0;32mas\u001b[0m \u001b[0me\u001b[0m\u001b[0;34m:\u001b[0m\u001b[0;34m\u001b[0m\u001b[0;34m\u001b[0m\u001b[0m\n\u001b[1;32m     80\u001b[0m                 \u001b[0;32mtry\u001b[0m\u001b[0;34m:\u001b[0m \u001b[0mroot\u001b[0m \u001b[0;34m=\u001b[0m \u001b[0mnltk\u001b[0m\u001b[0;34m.\u001b[0m\u001b[0mdata\u001b[0m\u001b[0;34m.\u001b[0m\u001b[0mfind\u001b[0m\u001b[0;34m(\u001b[0m\u001b[0;34m'{}/{}'\u001b[0m\u001b[0;34m.\u001b[0m\u001b[0mformat\u001b[0m\u001b[0;34m(\u001b[0m\u001b[0mself\u001b[0m\u001b[0;34m.\u001b[0m\u001b[0msubdir\u001b[0m\u001b[0;34m,\u001b[0m \u001b[0mzip_name\u001b[0m\u001b[0;34m)\u001b[0m\u001b[0;34m)\u001b[0m\u001b[0;34m\u001b[0m\u001b[0;34m\u001b[0m\u001b[0m\n\u001b[0;32m---> 81\u001b[0;31m                 \u001b[0;32mexcept\u001b[0m \u001b[0mLookupError\u001b[0m\u001b[0;34m:\u001b[0m \u001b[0;32mraise\u001b[0m \u001b[0me\u001b[0m\u001b[0;34m\u001b[0m\u001b[0;34m\u001b[0m\u001b[0m\n\u001b[0m\u001b[1;32m     82\u001b[0m \u001b[0;34m\u001b[0m\u001b[0m\n\u001b[1;32m     83\u001b[0m         \u001b[0;31m# Load the corpus.\u001b[0m\u001b[0;34m\u001b[0m\u001b[0;34m\u001b[0m\u001b[0;34m\u001b[0m\u001b[0m\n",
      "\u001b[0;32m/usr/local/lib/python3.7/dist-packages/nltk/corpus/util.py\u001b[0m in \u001b[0;36m__load\u001b[0;34m(self)\u001b[0m\n\u001b[1;32m     76\u001b[0m         \u001b[0;32melse\u001b[0m\u001b[0;34m:\u001b[0m\u001b[0;34m\u001b[0m\u001b[0;34m\u001b[0m\u001b[0m\n\u001b[1;32m     77\u001b[0m             \u001b[0;32mtry\u001b[0m\u001b[0;34m:\u001b[0m\u001b[0;34m\u001b[0m\u001b[0;34m\u001b[0m\u001b[0m\n\u001b[0;32m---> 78\u001b[0;31m                 \u001b[0mroot\u001b[0m \u001b[0;34m=\u001b[0m \u001b[0mnltk\u001b[0m\u001b[0;34m.\u001b[0m\u001b[0mdata\u001b[0m\u001b[0;34m.\u001b[0m\u001b[0mfind\u001b[0m\u001b[0;34m(\u001b[0m\u001b[0;34m'{}/{}'\u001b[0m\u001b[0;34m.\u001b[0m\u001b[0mformat\u001b[0m\u001b[0;34m(\u001b[0m\u001b[0mself\u001b[0m\u001b[0;34m.\u001b[0m\u001b[0msubdir\u001b[0m\u001b[0;34m,\u001b[0m \u001b[0mself\u001b[0m\u001b[0;34m.\u001b[0m\u001b[0m__name\u001b[0m\u001b[0;34m)\u001b[0m\u001b[0;34m)\u001b[0m\u001b[0;34m\u001b[0m\u001b[0;34m\u001b[0m\u001b[0m\n\u001b[0m\u001b[1;32m     79\u001b[0m             \u001b[0;32mexcept\u001b[0m \u001b[0mLookupError\u001b[0m \u001b[0;32mas\u001b[0m \u001b[0me\u001b[0m\u001b[0;34m:\u001b[0m\u001b[0;34m\u001b[0m\u001b[0;34m\u001b[0m\u001b[0m\n\u001b[1;32m     80\u001b[0m                 \u001b[0;32mtry\u001b[0m\u001b[0;34m:\u001b[0m \u001b[0mroot\u001b[0m \u001b[0;34m=\u001b[0m \u001b[0mnltk\u001b[0m\u001b[0;34m.\u001b[0m\u001b[0mdata\u001b[0m\u001b[0;34m.\u001b[0m\u001b[0mfind\u001b[0m\u001b[0;34m(\u001b[0m\u001b[0;34m'{}/{}'\u001b[0m\u001b[0;34m.\u001b[0m\u001b[0mformat\u001b[0m\u001b[0;34m(\u001b[0m\u001b[0mself\u001b[0m\u001b[0;34m.\u001b[0m\u001b[0msubdir\u001b[0m\u001b[0;34m,\u001b[0m \u001b[0mzip_name\u001b[0m\u001b[0;34m)\u001b[0m\u001b[0;34m)\u001b[0m\u001b[0;34m\u001b[0m\u001b[0;34m\u001b[0m\u001b[0m\n",
      "\u001b[0;32m/usr/local/lib/python3.7/dist-packages/nltk/data.py\u001b[0m in \u001b[0;36mfind\u001b[0;34m(resource_name, paths)\u001b[0m\n\u001b[1;32m    671\u001b[0m     \u001b[0msep\u001b[0m \u001b[0;34m=\u001b[0m \u001b[0;34m'*'\u001b[0m \u001b[0;34m*\u001b[0m \u001b[0;36m70\u001b[0m\u001b[0;34m\u001b[0m\u001b[0;34m\u001b[0m\u001b[0m\n\u001b[1;32m    672\u001b[0m     \u001b[0mresource_not_found\u001b[0m \u001b[0;34m=\u001b[0m \u001b[0;34m'\\n%s\\n%s\\n%s\\n'\u001b[0m \u001b[0;34m%\u001b[0m \u001b[0;34m(\u001b[0m\u001b[0msep\u001b[0m\u001b[0;34m,\u001b[0m \u001b[0mmsg\u001b[0m\u001b[0;34m,\u001b[0m \u001b[0msep\u001b[0m\u001b[0;34m)\u001b[0m\u001b[0;34m\u001b[0m\u001b[0;34m\u001b[0m\u001b[0m\n\u001b[0;32m--> 673\u001b[0;31m     \u001b[0;32mraise\u001b[0m \u001b[0mLookupError\u001b[0m\u001b[0;34m(\u001b[0m\u001b[0mresource_not_found\u001b[0m\u001b[0;34m)\u001b[0m\u001b[0;34m\u001b[0m\u001b[0;34m\u001b[0m\u001b[0m\n\u001b[0m\u001b[1;32m    674\u001b[0m \u001b[0;34m\u001b[0m\u001b[0m\n\u001b[1;32m    675\u001b[0m \u001b[0;34m\u001b[0m\u001b[0m\n",
      "\u001b[0;31mLookupError\u001b[0m: \n**********************************************************************\n  Resource \u001b[93mstopwords\u001b[0m not found.\n  Please use the NLTK Downloader to obtain the resource:\n\n  \u001b[31m>>> import nltk\n  >>> nltk.download('stopwords')\n  \u001b[0m\n  Searched in:\n    - '/root/nltk_data'\n    - '/usr/share/nltk_data'\n    - '/usr/local/share/nltk_data'\n    - '/usr/lib/nltk_data'\n    - '/usr/local/lib/nltk_data'\n    - '/usr/nltk_data'\n    - '/usr/lib/nltk_data'\n**********************************************************************\n"
     ]
    }
   ],
   "source": [
    "import string\n",
    "def remove_punctuation(text):\n",
    "    return \"\".join([ch if ch not in string.punctuation else ' ' for ch in text])\n",
    "\n",
    "def remove_numbers(text):\n",
    "    return ''.join([i if not i.isdigit() else ' ' for i in text])\n",
    "\n",
    "import re\n",
    "def remove_multiple_spaces(text):\n",
    "\treturn re.sub(r'\\s+', ' ', text, flags=re.I)\n",
    "\n",
    "from nltk.stem import *\n",
    "from nltk.corpus import stopwords\n",
    "from pymystem3 import Mystem\n",
    "from string import punctuation\n",
    "mystem = Mystem() \n",
    "\n",
    "russian_stopwords = stopwords.words(\"russian\")\n",
    "russian_stopwords.extend(['…', '«', '»', '...'])\n",
    "def lemmatize_text(text):\n",
    "    tokens = mystem.lemmatize(text.lower())\n",
    "    tokens = [token for token in tokens if token not in russian_stopwords and token != \" \"]\n",
    "    text = \" \".join(tokens)\n",
    "    return text"
   ]
  },
  {
   "cell_type": "code",
   "execution_count": null,
   "metadata": {
    "id": "Bxj38Jau8nbm"
   },
   "outputs": [],
   "source": [
    "preproccessing = lambda text: (remove_multiple_spaces(remove_numbers(remove_punctuation(text))))\n",
    "data['preproccessed'] = list(map(preproccessing, df_res['text']))"
   ]
  },
  {
   "cell_type": "code",
   "execution_count": null,
   "metadata": {
    "colab": {
     "referenced_widgets": [
      "e34da27c1a3647eda8a1db238ed470d2"
     ]
    },
    "id": "CMMGxDST8nbn",
    "outputId": "42ad2e6b-8b05-4bf5-ffe3-008bc4dcb5b7"
   },
   "outputs": [
    {
     "data": {
      "application/vnd.jupyter.widget-view+json": {
       "model_id": "e34da27c1a3647eda8a1db238ed470d2",
       "version_major": 2,
       "version_minor": 0
      },
      "text/plain": [
       "HBox(children=(FloatProgress(value=0.0, max=10000.0), HTML(value='')))"
      ]
     },
     "metadata": {
      "tags": []
     },
     "output_type": "display_data"
    },
    {
     "name": "stdout",
     "output_type": "stream",
     "text": [
      "\n"
     ]
    }
   ],
   "source": [
    "prep_text = [remove_multiple_spaces(remove_numbers(remove_punctuation(text.lower()))) for text in tqdm(df_res['text'])]"
   ]
  },
  {
   "cell_type": "code",
   "execution_count": null,
   "metadata": {
    "id": "hNvp3WFg8nbn",
    "outputId": "4a855249-252f-40e0-f151-9c81d86f3e86"
   },
   "outputs": [
    {
     "data": {
      "text/plain": [
       "'названы самые раздражающие фотографии которые уехавшие в отпуск люди выкладывают в социальные сети сообщает the daily mail соответствующий антирейтинг был составлен на основе опроса посетителей онлайн сервиса для туристов top com интернет пользователи назвали самым раздражающим видом снимков с отдыха скриншоты прогноза погоды в месте пребывания — процент опрошенных не желают видеть такие фото в своей новостной ленте в соцсети особое недовольство вызывают селфи они бесят процента респондентов замыкает тройку лидеров негатива такой вид фото как hot dog legs многие любят фотографировать свои загорелые конечности на фоне моря бассейна и т д «ноги сосиски» в соцсетях портят настроение процентам опрошенных самые ненавистные для пользователей типы снимков друзей расположились в рейтинге top com так скриншоты из iphone о прогнозе погоды на курорте отпускные селфи снимки ног на фоне моря бассейна и т д так называемые hot dog legs фотографии в прыжке оптические иллюзии например эйфелева башня на ладони фото надписей на песке фото с тантамаресками снимки закатов фото неба и пальм фото напитков и еды представитель top com алекс баттл alex buttle отметил что составители рейтинга не собирались ставить «банальные снимки» в укор интернет пользователям по словам баттла в компании осознают что причиной по которой многие пользователи проголосовали за те или иные виды фото может быть не раздражение а зависть '"
      ]
     },
     "execution_count": 103,
     "metadata": {
      "tags": []
     },
     "output_type": "execute_result"
    }
   ],
   "source": [
    "len(prep_text)\n",
    "prep_text[0]"
   ]
  },
  {
   "cell_type": "code",
   "execution_count": null,
   "metadata": {
    "id": "sNm9O2dW8nbo"
   },
   "outputs": [],
   "source": [
    "df_res['text_prep'] = prep_text"
   ]
  },
  {
   "cell_type": "code",
   "execution_count": null,
   "metadata": {
    "id": "wJMsNFWn8nbo",
    "outputId": "185855a7-4fd0-4de3-b71d-51fb065232ad"
   },
   "outputs": [
    {
     "data": {
      "text/html": [
       "<div>\n",
       "<style scoped>\n",
       "    .dataframe tbody tr th:only-of-type {\n",
       "        vertical-align: middle;\n",
       "    }\n",
       "\n",
       "    .dataframe tbody tr th {\n",
       "        vertical-align: top;\n",
       "    }\n",
       "\n",
       "    .dataframe thead th {\n",
       "        text-align: right;\n",
       "    }\n",
       "</style>\n",
       "<table border=\"1\" class=\"dataframe\">\n",
       "  <thead>\n",
       "    <tr style=\"text-align: right;\">\n",
       "      <th></th>\n",
       "      <th>url</th>\n",
       "      <th>title</th>\n",
       "      <th>text</th>\n",
       "      <th>topic</th>\n",
       "      <th>tags</th>\n",
       "      <th>text_prep</th>\n",
       "    </tr>\n",
       "  </thead>\n",
       "  <tbody>\n",
       "    <tr>\n",
       "      <th>0</th>\n",
       "      <td>https://lenta.ru/news/2018/12/15/disneyland/</td>\n",
       "      <td>Обнаружено самое счастливое место на планете</td>\n",
       "      <td>Сотрудники социальной сети Instagram проанализ...</td>\n",
       "      <td>Путешествия</td>\n",
       "      <td>Мир</td>\n",
       "      <td>сотрудники социальной сети instagram проанализ...</td>\n",
       "    </tr>\n",
       "  </tbody>\n",
       "</table>\n",
       "</div>"
      ],
      "text/plain": [
       "                                            url  \\\n",
       "0  https://lenta.ru/news/2018/12/15/disneyland/   \n",
       "\n",
       "                                          title  \\\n",
       "0  Обнаружено самое счастливое место на планете   \n",
       "\n",
       "                                                text        topic tags  \\\n",
       "0  Сотрудники социальной сети Instagram проанализ...  Путешествия  Мир   \n",
       "\n",
       "                                           text_prep  \n",
       "0  сотрудники социальной сети instagram проанализ...  "
      ]
     },
     "execution_count": 27,
     "metadata": {
      "tags": []
     },
     "output_type": "execute_result"
    }
   ],
   "source": [
    "df_res.head(1)"
   ]
  },
  {
   "cell_type": "markdown",
   "metadata": {
    "id": "91rgRVi68nbo"
   },
   "source": [
    "### Стемминг"
   ]
  },
  {
   "cell_type": "code",
   "execution_count": null,
   "metadata": {
    "id": "FnPEsoeI8nbp"
   },
   "outputs": [],
   "source": [
    "from nltk.stem.snowball import SnowballStemmer \n",
    "stemmer = SnowballStemmer(\"russian\") "
   ]
  },
  {
   "cell_type": "code",
   "execution_count": null,
   "metadata": {
    "id": "XQ2BKEMf8nbp"
   },
   "outputs": [],
   "source": [
    "russian_stopwords = stopwords.words(\"russian\")\n",
    "russian_stopwords.extend(['…', '«', '»', '...', 'т.д.', 'т', 'д'])"
   ]
  },
  {
   "cell_type": "code",
   "execution_count": null,
   "metadata": {
    "id": "n_HkGaXk8nbp"
   },
   "outputs": [],
   "source": [
    "text = df_res['text_prep'][0]\n",
    "word_tokenize(text) "
   ]
  },
  {
   "cell_type": "code",
   "execution_count": null,
   "metadata": {
    "colab": {
     "referenced_widgets": [
      "43d8e026b1744a5bb87395cdb3be232e"
     ]
    },
    "id": "eir7PhA78nbq",
    "outputId": "2efd86a7-9ad4-4515-ea7b-ae38ad31c38c"
   },
   "outputs": [
    {
     "data": {
      "application/vnd.jupyter.widget-view+json": {
       "model_id": "43d8e026b1744a5bb87395cdb3be232e",
       "version_major": 2,
       "version_minor": 0
      },
      "text/plain": [
       "HBox(children=(FloatProgress(value=0.0, max=10000.0), HTML(value='')))"
      ]
     },
     "metadata": {
      "tags": []
     },
     "output_type": "display_data"
    },
    {
     "name": "stdout",
     "output_type": "stream",
     "text": [
      "\n"
     ]
    }
   ],
   "source": [
    "from nltk import word_tokenize\n",
    "\n",
    "stemmed_texts_list = []\n",
    "for text in tqdm(df_res['text_prep']):\n",
    "    tokens = word_tokenize(text)    \n",
    "    stemmed_tokens = [stemmer.stem(token) for token in tokens if token not in russian_stopwords]\n",
    "    text = \" \".join(stemmed_tokens)\n",
    "    stemmed_texts_list.append(text)\n",
    "\n",
    "df_res['text_stem'] = stemmed_texts_list\n"
   ]
  },
  {
   "cell_type": "code",
   "execution_count": null,
   "metadata": {
    "id": "33vy2T5B8nbq",
    "outputId": "4948bd9f-7716-4402-e069-41567675a713"
   },
   "outputs": [
    {
     "name": "stderr",
     "output_type": "stream",
     "text": [
      "[nltk_data] Downloading package punkt to\n",
      "[nltk_data]     C:\\Users\\Администратор\\AppData\\Roaming\\nltk_data...\n",
      "[nltk_data]   Package punkt is already up-to-date!\n"
     ]
    },
    {
     "data": {
      "text/plain": [
       "True"
      ]
     },
     "execution_count": 110,
     "metadata": {
      "tags": []
     },
     "output_type": "execute_result"
    }
   ],
   "source": [
    "import nltk\n",
    "nltk.download('punkt')"
   ]
  },
  {
   "cell_type": "code",
   "execution_count": null,
   "metadata": {
    "id": "I8CofNgb8nbr"
   },
   "outputs": [],
   "source": [
    "def remove_stop_words(text):\n",
    "    tokens = word_tokenize(text) \n",
    "    tokens = [token for token in tokens if token not in russian_stopwords and token != ' ']\n",
    "    return \" \".join(tokens)"
   ]
  },
  {
   "cell_type": "code",
   "execution_count": null,
   "metadata": {
    "colab": {
     "referenced_widgets": [
      "ffe537c48bff4aef8652283650b13cf8"
     ]
    },
    "id": "h9Ot0RNZ8nbr",
    "outputId": "da26a856-ae1f-4edf-d367-9f19c49cd104"
   },
   "outputs": [
    {
     "data": {
      "application/vnd.jupyter.widget-view+json": {
       "model_id": "ffe537c48bff4aef8652283650b13cf8",
       "version_major": 2,
       "version_minor": 0
      },
      "text/plain": [
       "HBox(children=(FloatProgress(value=0.0, max=10000.0), HTML(value='')))"
      ]
     },
     "metadata": {
      "tags": []
     },
     "output_type": "display_data"
    },
    {
     "name": "stdout",
     "output_type": "stream",
     "text": [
      "\n"
     ]
    }
   ],
   "source": [
    "from nltk import word_tokenize\n",
    "\n",
    "sw_texts_list = []\n",
    "for text in tqdm(df_res['text_prep']):\n",
    "    tokens = word_tokenize(text)    \n",
    "    tokens = [token for token in tokens if token not in russian_stopwords and token != ' ']\n",
    "    text = \" \".join(tokens)\n",
    "    sw_texts_list.append(text)\n",
    "\n",
    "df_res['text_sw'] = sw_texts_list"
   ]
  },
  {
   "cell_type": "code",
   "execution_count": null,
   "metadata": {
    "id": "7k8bd2Fr8nbr",
    "outputId": "2f74c0d1-85d3-4b84-b8e1-ab968d931ef0"
   },
   "outputs": [
    {
     "data": {
      "text/plain": [
       "'названы самые раздражающие фотографии которые уехавшие отпуск люди выкладывают социальные сети сообщает the daily mail соответствующий антирейтинг составлен основе опроса посетителей онлайн сервиса туристов top com интернет пользователи назвали самым раздражающим видом снимков отдыха скриншоты прогноза погоды месте пребывания — процент опрошенных желают видеть такие фото своей новостной ленте соцсети особое недовольство вызывают селфи бесят процента респондентов замыкает тройку лидеров негатива вид фото hot dog legs многие любят фотографировать свои загорелые конечности фоне моря бассейна ноги сосиски соцсетях портят настроение процентам опрошенных самые ненавистные пользователей типы снимков друзей расположились рейтинге top com скриншоты iphone прогнозе погоды курорте отпускные селфи снимки ног фоне моря бассейна называемые hot dog legs фотографии прыжке оптические иллюзии например эйфелева башня ладони фото надписей песке фото тантамаресками снимки закатов фото неба пальм фото напитков еды представитель top com алекс баттл alex buttle отметил составители рейтинга собирались ставить банальные снимки укор интернет пользователям словам баттла компании осознают причиной которой многие пользователи проголосовали те иные виды фото раздражение зависть'"
      ]
     },
     "execution_count": 113,
     "metadata": {
      "tags": []
     },
     "output_type": "execute_result"
    }
   ],
   "source": [
    "df_res['text_sw'][0]"
   ]
  },
  {
   "cell_type": "code",
   "execution_count": null,
   "metadata": {
    "id": "5kBfN8vd8nbs"
   },
   "outputs": [],
   "source": [
    "df_res.to_csv('lenta_stemmed.csv')"
   ]
  },
  {
   "cell_type": "code",
   "execution_count": null,
   "metadata": {
    "id": "fSaHpSf18nbs",
    "outputId": "8b0a9474-6fe5-4c5f-eb63-c33d743e9499"
   },
   "outputs": [
    {
     "data": {
      "text/plain": [
       "'назва сам раздража фотограф котор уеха отпуск люд выкладыва социальн сет сообща the daily mail соответств антирейтинг составл основ опрос посетител онлайн сервис турист top com интернет пользовател назва сам раздража вид снимк отдых скриншот прогноз погод мест пребыван — процент опрошен жела видет так фот сво новостн лент соцсет особ недовольств вызыва селф бес процент респондент замыка тройк лидер негатив вид фот hot dog legs мног люб фотографирова сво загорел конечн фон мор бассейн ног сосиск соцсет порт настроен процент опрошен сам ненавистн пользовател тип снимк друз располож рейтинг top com скриншот iphone прогноз погод курорт отпускн селф снимк ног фон мор бассейн называ hot dog legs фотограф прыжк оптическ иллюз например эйфелев башн ладон фот надпис песк фот тантамареск снимк закат фот неб пальм фот напитк ед представител top com алекс баттл alex buttle отмет составител рейтинг собира став банальн снимк укор интернет пользовател слов баттл компан осозна причин котор мног пользовател проголосова те ин вид фот раздражен завист'"
      ]
     },
     "execution_count": 114,
     "metadata": {
      "tags": []
     },
     "output_type": "execute_result"
    }
   ],
   "source": [
    "df_res['text_stem'][0]"
   ]
  },
  {
   "cell_type": "markdown",
   "metadata": {
    "id": "R1PMlLAu8nbs"
   },
   "source": [
    "## Лемматизация"
   ]
  },
  {
   "cell_type": "code",
   "execution_count": null,
   "metadata": {
    "id": "AGiKgSIb8nbt",
    "outputId": "d51078f0-dc07-4184-d317-22ce64f21e32"
   },
   "outputs": [
    {
     "data": {
      "application/vnd.jupyter.widget-view+json": {
       "model_id": "fb6c864a3e65465b803e612366a5bc57",
       "version_major": 2,
       "version_minor": 0
      },
      "text/plain": [
       "HBox(children=(FloatProgress(value=0.0, max=10000.0), HTML(value='')))"
      ]
     },
     "metadata": {
      "tags": []
     },
     "output_type": "display_data"
    },
    {
     "name": "stdout",
     "output_type": "stream",
     "text": [
      "\n"
     ]
    }
   ],
   "source": [
    "lemm_texts_list = []\n",
    "for text in tqdm(df_res['text_sw']):\n",
    "    #print(text)\n",
    "    try:\n",
    "        text_lem = mystem.lemmatize(text)\n",
    "        tokens = [token for token in text_lem if token != ' ' and token not in russian_stopwords]\n",
    "        text = \" \".join(tokens)\n",
    "        lemm_texts_list.append(text)\n",
    "    except Exception as e:\n",
    "        print(e)\n",
    "    \n",
    "df_res['text_lemm'] = lemm_texts_list"
   ]
  },
  {
   "cell_type": "code",
   "execution_count": null,
   "metadata": {
    "id": "6i_HA7Wx8nbt"
   },
   "outputs": [],
   "source": [
    "def lemmatize_text(text):\n",
    "    text_lem = mystem.lemmatize(text)\n",
    "    tokens = [token for token in text_lem if token != ' ']\n",
    "    return \" \".join(tokens)"
   ]
  },
  {
   "cell_type": "code",
   "execution_count": null,
   "metadata": {
    "id": "vrATnZC68nbu"
   },
   "outputs": [],
   "source": [
    "df_res.to_csv('lemm.csv')"
   ]
  },
  {
   "cell_type": "code",
   "execution_count": null,
   "metadata": {
    "id": "aZ7mjEWX8nbu"
   },
   "outputs": [],
   "source": [
    "df_res = pd.read_csv('lemm.csv', encoding = 'utf-8')"
   ]
  },
  {
   "cell_type": "code",
   "execution_count": null,
   "metadata": {
    "id": "Zr6Kzzh08nbu",
    "outputId": "aa036c11-5b25-4c97-9ca1-2b5136528db7"
   },
   "outputs": [
    {
     "data": {
      "text/html": [
       "<div>\n",
       "<style scoped>\n",
       "    .dataframe tbody tr th:only-of-type {\n",
       "        vertical-align: middle;\n",
       "    }\n",
       "\n",
       "    .dataframe tbody tr th {\n",
       "        vertical-align: top;\n",
       "    }\n",
       "\n",
       "    .dataframe thead th {\n",
       "        text-align: right;\n",
       "    }\n",
       "</style>\n",
       "<table border=\"1\" class=\"dataframe\">\n",
       "  <thead>\n",
       "    <tr style=\"text-align: right;\">\n",
       "      <th></th>\n",
       "      <th>Unnamed: 0</th>\n",
       "      <th>url</th>\n",
       "      <th>title</th>\n",
       "      <th>text</th>\n",
       "      <th>topic</th>\n",
       "      <th>tags</th>\n",
       "      <th>date</th>\n",
       "      <th>text_prep</th>\n",
       "      <th>text_sw</th>\n",
       "      <th>text_lemm</th>\n",
       "    </tr>\n",
       "  </thead>\n",
       "  <tbody>\n",
       "    <tr>\n",
       "      <th>0</th>\n",
       "      <td>0</td>\n",
       "      <td>https://lenta.ru/news/2014/06/26/annoyingphotos/</td>\n",
       "      <td>Составлен рейтинг самых раздражающих отпускных...</td>\n",
       "      <td>Названы самые раздражающие фотографии, которые...</td>\n",
       "      <td>Путешествия</td>\n",
       "      <td>Мнения</td>\n",
       "      <td>2014/06/26</td>\n",
       "      <td>названы самые раздражающие фотографии которые ...</td>\n",
       "      <td>названы самые раздражающие фотографии которые ...</td>\n",
       "      <td>называть самый раздражающий фотография который...</td>\n",
       "    </tr>\n",
       "    <tr>\n",
       "      <th>1</th>\n",
       "      <td>1</td>\n",
       "      <td>https://lenta.ru/news/2015/01/09/flight/</td>\n",
       "      <td>В Европе появится 10-минутный авиарейс</td>\n",
       "      <td>Австрийская авиакомпания FlyNiki открывает 10-...</td>\n",
       "      <td>Путешествия</td>\n",
       "      <td>Мир</td>\n",
       "      <td>2015/01/09</td>\n",
       "      <td>австрийская авиакомпания flyniki открывает мин...</td>\n",
       "      <td>австрийская авиакомпания flyniki открывает мин...</td>\n",
       "      <td>австрийский авиакомпания flyniki открывать мин...</td>\n",
       "    </tr>\n",
       "    <tr>\n",
       "      <th>2</th>\n",
       "      <td>2</td>\n",
       "      <td>https://lenta.ru/news/2015/01/28/tsipras/</td>\n",
       "      <td>Греческий премьер призвал избавиться от отелей...</td>\n",
       "      <td>Премьер-министр Греции Алексис Ципрас призвал ...</td>\n",
       "      <td>Путешествия</td>\n",
       "      <td>Мир</td>\n",
       "      <td>2015/01/28</td>\n",
       "      <td>премьер министр греции алексис ципрас призвал ...</td>\n",
       "      <td>премьер министр греции алексис ципрас призвал ...</td>\n",
       "      <td>премьер министр греция алексис ципрас призыват...</td>\n",
       "    </tr>\n",
       "    <tr>\n",
       "      <th>3</th>\n",
       "      <td>3</td>\n",
       "      <td>https://lenta.ru/news/2015/02/03/standfly/</td>\n",
       "      <td>Китайская авиакомпания собралась ввести в само...</td>\n",
       "      <td>Китайский лоукостер Spring Airlines собрался п...</td>\n",
       "      <td>Путешествия</td>\n",
       "      <td>Мир</td>\n",
       "      <td>2015/02/03</td>\n",
       "      <td>китайский лоукостер spring airlines собрался п...</td>\n",
       "      <td>китайский лоукостер spring airlines собрался п...</td>\n",
       "      <td>китайский лоукостер spring airlines собираться...</td>\n",
       "    </tr>\n",
       "    <tr>\n",
       "      <th>4</th>\n",
       "      <td>4</td>\n",
       "      <td>https://lenta.ru/news/2015/02/12/tripforvalent...</td>\n",
       "      <td>Россияне отправятся отмечать День святого Вале...</td>\n",
       "      <td>Большинство российских путешественников отметя...</td>\n",
       "      <td>Путешествия</td>\n",
       "      <td>Россия</td>\n",
       "      <td>2015/02/12</td>\n",
       "      <td>большинство российских путешественников отметя...</td>\n",
       "      <td>большинство российских путешественников отметя...</td>\n",
       "      <td>большинство российский путешественник отмечать...</td>\n",
       "    </tr>\n",
       "  </tbody>\n",
       "</table>\n",
       "</div>"
      ],
      "text/plain": [
       "   Unnamed: 0                                                url  \\\n",
       "0           0   https://lenta.ru/news/2014/06/26/annoyingphotos/   \n",
       "1           1           https://lenta.ru/news/2015/01/09/flight/   \n",
       "2           2          https://lenta.ru/news/2015/01/28/tsipras/   \n",
       "3           3         https://lenta.ru/news/2015/02/03/standfly/   \n",
       "4           4  https://lenta.ru/news/2015/02/12/tripforvalent...   \n",
       "\n",
       "                                               title  \\\n",
       "0  Составлен рейтинг самых раздражающих отпускных...   \n",
       "1            В Европе появится 10-минутный авиарейс    \n",
       "2  Греческий премьер призвал избавиться от отелей...   \n",
       "3  Китайская авиакомпания собралась ввести в само...   \n",
       "4  Россияне отправятся отмечать День святого Вале...   \n",
       "\n",
       "                                                text        topic    tags  \\\n",
       "0  Названы самые раздражающие фотографии, которые...  Путешествия  Мнения   \n",
       "1  Австрийская авиакомпания FlyNiki открывает 10-...  Путешествия     Мир   \n",
       "2  Премьер-министр Греции Алексис Ципрас призвал ...  Путешествия     Мир   \n",
       "3  Китайский лоукостер Spring Airlines собрался п...  Путешествия     Мир   \n",
       "4  Большинство российских путешественников отметя...  Путешествия  Россия   \n",
       "\n",
       "         date                                          text_prep  \\\n",
       "0  2014/06/26  названы самые раздражающие фотографии которые ...   \n",
       "1  2015/01/09  австрийская авиакомпания flyniki открывает мин...   \n",
       "2  2015/01/28  премьер министр греции алексис ципрас призвал ...   \n",
       "3  2015/02/03  китайский лоукостер spring airlines собрался п...   \n",
       "4  2015/02/12  большинство российских путешественников отметя...   \n",
       "\n",
       "                                             text_sw  \\\n",
       "0  названы самые раздражающие фотографии которые ...   \n",
       "1  австрийская авиакомпания flyniki открывает мин...   \n",
       "2  премьер министр греции алексис ципрас призвал ...   \n",
       "3  китайский лоукостер spring airlines собрался п...   \n",
       "4  большинство российских путешественников отметя...   \n",
       "\n",
       "                                           text_lemm  \n",
       "0  называть самый раздражающий фотография который...  \n",
       "1  австрийский авиакомпания flyniki открывать мин...  \n",
       "2  премьер министр греция алексис ципрас призыват...  \n",
       "3  китайский лоукостер spring airlines собираться...  \n",
       "4  большинство российский путешественник отмечать...  "
      ]
     },
     "execution_count": 136,
     "metadata": {
      "tags": []
     },
     "output_type": "execute_result"
    }
   ],
   "source": [
    "df_res.head()"
   ]
  },
  {
   "cell_type": "code",
   "execution_count": null,
   "metadata": {
    "id": "Jgn-Sh-n8nbv",
    "outputId": "3ff970b6-b78c-4344-ae21-a00848a85ad5"
   },
   "outputs": [
    {
     "data": {
      "text/plain": [
       "'называть самый раздражающий фотография который уезжать отпуск человек выкладывать социальный сеть сообщать the daily mail соответствующий антирейтинг составлять основа опрос посетитель онлайн сервис турист top com интернет пользователь называть самый раздражающий вид снимок отдых скриншот прогноз погода место пребывание  —  процент опрашивать желать видеть фото свой новостной лента соцсеть особый недовольство вызывать селфи бесить процент респондент замыкать тройка лидер негатив вид фото hot dog legs многие любить фотографировать свой загорелый конечность фон море бассейн нога сосиска соцсеть портить настроение процент опрашивать самый ненавистный пользователь тип снимок друг располагаться рейтинг top com скриншот iphone прогноз погода курорт отпускной селфи снимок нога фон море бассейн называть hot dog legs фотография прыжок оптический иллюзия например эйфелев башня ладонь фото надпись песок фото тантамаресок снимок закат фото небо пальма фото напиток еда представитель top com алекс баттл alex buttle отмечать составитель рейтинг собираться ставить банальный снимок укор интернет пользователь слово баттла компания осознавать причина который многий пользователь проголосовать иной вид фото раздражение зависть \\n'"
      ]
     },
     "execution_count": 121,
     "metadata": {
      "tags": []
     },
     "output_type": "execute_result"
    }
   ],
   "source": [
    "df_res['text_lemm'][0]"
   ]
  },
  {
   "cell_type": "code",
   "execution_count": null,
   "metadata": {
    "id": "NYVJ4LtA8nbv"
   },
   "outputs": [],
   "source": [
    "#X = df_res['text_lemm']\n",
    "X = df_res['text_sw']\n",
    "y = df_res['topic']"
   ]
  },
  {
   "cell_type": "code",
   "execution_count": null,
   "metadata": {
    "id": "obhELaWS8nbv",
    "outputId": "cffdcfe2-22db-4eef-e3c5-0de9fb260f11"
   },
   "outputs": [
    {
     "data": {
      "text/plain": [
       "str"
      ]
     },
     "execution_count": 152,
     "metadata": {
      "tags": []
     },
     "output_type": "execute_result"
    }
   ],
   "source": [
    "type(df_res['text_lemm'][0])"
   ]
  },
  {
   "cell_type": "code",
   "execution_count": null,
   "metadata": {
    "id": "wt-5Biww8nbw"
   },
   "outputs": [],
   "source": [
    "from sklearn.model_selection import train_test_split\n",
    "X_train, X_test, y_train, y_test = train_test_split(X, y, test_size=0.3, random_state = 42)"
   ]
  },
  {
   "cell_type": "code",
   "execution_count": null,
   "metadata": {
    "id": "1zwr_cTd8nbw",
    "outputId": "d923f6b9-b1b4-4cb5-8304-5b6cf92275dd"
   },
   "outputs": [
    {
     "data": {
      "text/plain": [
       "array(['Путешествия', 'Ценности', 'Мир', 'Наука и техника', 'Экономика'],\n",
       "      dtype=object)"
      ]
     },
     "execution_count": 156,
     "metadata": {
      "tags": []
     },
     "output_type": "execute_result"
    }
   ],
   "source": [
    "my_tags = df_res['topic'].unique()\n",
    "my_tags"
   ]
  },
  {
   "cell_type": "code",
   "execution_count": null,
   "metadata": {
    "id": "eWQ4R5hi8nbw",
    "outputId": "bf439860-e0eb-4b51-a3d4-0bcb3ade9b67"
   },
   "outputs": [
    {
     "data": {
      "text/plain": [
       "str"
      ]
     },
     "execution_count": 151,
     "metadata": {
      "tags": []
     },
     "output_type": "execute_result"
    }
   ],
   "source": [
    "type(X_train[1])\n",
    "df['Review'].values.astype('U')"
   ]
  },
  {
   "cell_type": "markdown",
   "metadata": {
    "id": "yVVnbg0h8nbx"
   },
   "source": [
    "## Naive Bayes Classifier"
   ]
  },
  {
   "cell_type": "code",
   "execution_count": null,
   "metadata": {
    "id": "Bnbq-uqV8nbx"
   },
   "outputs": [],
   "source": [
    "from sklearn.naive_bayes import MultinomialNB\n",
    "from sklearn.pipeline import Pipeline\n",
    "from sklearn.feature_extraction.text import TfidfTransformer\n",
    "from sklearn.feature_extraction.text import CountVectorizer"
   ]
  },
  {
   "cell_type": "code",
   "execution_count": null,
   "metadata": {
    "id": "Oh-uMeP_8nbx"
   },
   "outputs": [],
   "source": [
    "nb = Pipeline([('vect', CountVectorizer()),\n",
    "               ('tfidf', TfidfTransformer()),\n",
    "               ('clf', MultinomialNB()),\n",
    "              ])"
   ]
  },
  {
   "cell_type": "code",
   "execution_count": null,
   "metadata": {
    "id": "vgAbrLTG8nby",
    "outputId": "9998cf7f-143a-4197-eede-384d011a1fe1"
   },
   "outputs": [
    {
     "name": "stdout",
     "output_type": "stream",
     "text": [
      "Wall time: 1.74 s\n"
     ]
    },
    {
     "data": {
      "text/plain": [
       "Pipeline(steps=[('vect', CountVectorizer()), ('tfidf', TfidfTransformer()),\n",
       "                ('clf', MultinomialNB())])"
      ]
     },
     "execution_count": 159,
     "metadata": {
      "tags": []
     },
     "output_type": "execute_result"
    }
   ],
   "source": [
    "%%time\n",
    "nb.fit(X_train, y_train)"
   ]
  },
  {
   "cell_type": "code",
   "execution_count": null,
   "metadata": {
    "id": "YSA6y05_8nby",
    "outputId": "f6f18bf2-1a70-4b78-c4b0-18008fa4abff"
   },
   "outputs": [
    {
     "name": "stdout",
     "output_type": "stream",
     "text": [
      "Wall time: 617 ms\n"
     ]
    }
   ],
   "source": [
    "%%time\n",
    "from sklearn.metrics import classification_report\n",
    "y_pred = nb.predict(X_test)"
   ]
  },
  {
   "cell_type": "code",
   "execution_count": null,
   "metadata": {
    "id": "hQ-MzLUd8nbz",
    "outputId": "1be635ad-0e23-4192-f3c8-d934f7f902fb"
   },
   "outputs": [
    {
     "data": {
      "text/plain": [
       "'Путешествия'"
      ]
     },
     "execution_count": 163,
     "metadata": {
      "tags": []
     },
     "output_type": "execute_result"
    }
   ],
   "source": [
    "y_pred[0]"
   ]
  },
  {
   "cell_type": "code",
   "execution_count": null,
   "metadata": {
    "id": "MOPQsa8U8nbz",
    "outputId": "28369ad4-c09a-4a4f-f6be-b8bd6d3d2f04"
   },
   "outputs": [
    {
     "name": "stdout",
     "output_type": "stream",
     "text": [
      "названы самые раздражающие фотографии которые уехавшие отпуск люди выкладывают социальные сети сообщает the daily mail соответствующий антирейтинг составлен основе опроса посетителей онлайн сервиса туристов top com интернет пользователи назвали самым раздражающим видом снимков отдыха скриншоты прогноза погоды месте пребывания — процент опрошенных желают видеть такие фото своей новостной ленте соцсети особое недовольство вызывают селфи бесят процента респондентов замыкает тройку лидеров негатива вид фото hot dog legs многие любят фотографировать свои загорелые конечности фоне моря бассейна ноги сосиски соцсетях портят настроение процентам опрошенных самые ненавистные пользователей типы снимков друзей расположились рейтинге top com скриншоты iphone прогнозе погоды курорте отпускные селфи снимки ног фоне моря бассейна называемые hot dog legs фотографии прыжке оптические иллюзии например эйфелева башня ладони фото надписей песке фото тантамаресками снимки закатов фото неба пальм фото напитков еды представитель top com алекс баттл alex buttle отметил составители рейтинга собирались ставить банальные снимки укор интернет пользователям словам баттла компании осознают причиной которой многие пользователи проголосовали те иные виды фото раздражение зависть Путешествия Путешествия\n"
     ]
    }
   ],
   "source": [
    "print(X_test[0], y_test[0], y_pred[0])"
   ]
  },
  {
   "cell_type": "code",
   "execution_count": null,
   "metadata": {
    "id": "Ax-uNkJJ8nb0",
    "outputId": "fd0d45eb-fffd-4ae0-9f52-3c84aad88ce1"
   },
   "outputs": [
    {
     "name": "stdout",
     "output_type": "stream",
     "text": [
      "accuracy 0.922\n",
      "                 precision    recall  f1-score   support\n",
      "\n",
      "    Путешествия       0.92      0.81      0.86       610\n",
      "       Ценности       0.90      0.91      0.91       584\n",
      "            Мир       0.92      0.98      0.95       626\n",
      "Наука и техника       0.96      0.96      0.96       591\n",
      "      Экономика       0.91      0.96      0.93       589\n",
      "\n",
      "       accuracy                           0.92      3000\n",
      "      macro avg       0.92      0.92      0.92      3000\n",
      "   weighted avg       0.92      0.92      0.92      3000\n",
      "\n"
     ]
    }
   ],
   "source": [
    "from sklearn.metrics import accuracy_score\n",
    "\n",
    "print('accuracy %s' % accuracy_score(y_pred, y_test))\n",
    "print(classification_report(y_test, y_pred, target_names=my_tags))"
   ]
  },
  {
   "cell_type": "markdown",
   "metadata": {
    "id": "tTa7yQeZ8nb0"
   },
   "source": [
    "## Linear Support Vector Machine"
   ]
  },
  {
   "cell_type": "code",
   "execution_count": null,
   "metadata": {
    "id": "tsbm2V078nb1"
   },
   "outputs": [],
   "source": [
    "from sklearn.linear_model import SGDClassifier\n",
    "\n",
    "sgd = Pipeline([('vect', CountVectorizer()),\n",
    "                ('tfidf', TfidfTransformer()),\n",
    "                ('clf', SGDClassifier(loss='hinge', penalty='l2',alpha=1e-3, random_state=42, max_iter=5, tol=None)),\n",
    "               ])"
   ]
  },
  {
   "cell_type": "code",
   "execution_count": null,
   "metadata": {
    "id": "ZLb5VSD38nb1",
    "outputId": "87c78edc-07c3-4bbd-8c0b-6d7811108261"
   },
   "outputs": [
    {
     "name": "stdout",
     "output_type": "stream",
     "text": [
      "Wall time: 1.9 s\n"
     ]
    },
    {
     "data": {
      "text/plain": [
       "Pipeline(steps=[('vect', CountVectorizer()), ('tfidf', TfidfTransformer()),\n",
       "                ('clf',\n",
       "                 SGDClassifier(alpha=0.001, max_iter=5, random_state=42,\n",
       "                               tol=None))])"
      ]
     },
     "execution_count": 168,
     "metadata": {
      "tags": []
     },
     "output_type": "execute_result"
    }
   ],
   "source": [
    "%%time\n",
    "sgd.fit(X_train, y_train)"
   ]
  },
  {
   "cell_type": "code",
   "execution_count": null,
   "metadata": {
    "id": "ocRaQhQm8nb1",
    "outputId": "bd52df14-0004-4264-b58f-b8c4c600c69b"
   },
   "outputs": [
    {
     "name": "stdout",
     "output_type": "stream",
     "text": [
      "Wall time: 539 ms\n"
     ]
    }
   ],
   "source": [
    "%%time\n",
    "y_pred = sgd.predict(X_test)"
   ]
  },
  {
   "cell_type": "code",
   "execution_count": null,
   "metadata": {
    "id": "KIxTw0EZ8nb2",
    "outputId": "bd1d3a7f-62b5-4f77-9d31-d8e97bae4212"
   },
   "outputs": [
    {
     "name": "stdout",
     "output_type": "stream",
     "text": [
      "accuracy 0.92\n",
      "                 precision    recall  f1-score   support\n",
      "\n",
      "    Путешествия       0.92      0.81      0.86       610\n",
      "       Ценности       0.90      0.92      0.91       584\n",
      "            Мир       0.94      0.96      0.95       626\n",
      "Наука и техника       0.93      0.97      0.95       591\n",
      "      Экономика       0.91      0.94      0.92       589\n",
      "\n",
      "       accuracy                           0.92      3000\n",
      "      macro avg       0.92      0.92      0.92      3000\n",
      "   weighted avg       0.92      0.92      0.92      3000\n",
      "\n"
     ]
    }
   ],
   "source": [
    "print('accuracy %s' % accuracy_score(y_pred, y_test))\n",
    "print(classification_report(y_test, y_pred,target_names=my_tags))"
   ]
  },
  {
   "cell_type": "markdown",
   "metadata": {
    "id": "54QDF7CV8nb3"
   },
   "source": [
    "### Logistic Regression"
   ]
  },
  {
   "cell_type": "code",
   "execution_count": null,
   "metadata": {
    "id": "ObHAv6yC8nb3"
   },
   "outputs": [],
   "source": [
    "from sklearn.linear_model import LogisticRegression\n",
    "\n",
    "logreg = Pipeline([('vect', CountVectorizer()),\n",
    "                ('tfidf', TfidfTransformer()),\n",
    "                ('clf', LogisticRegression(n_jobs=1, C=1e5)),\n",
    "               ])"
   ]
  },
  {
   "cell_type": "code",
   "execution_count": null,
   "metadata": {
    "id": "eIHaNOim8nb3",
    "outputId": "5869bb11-7a71-4ff0-a4d4-42f95c6c30eb"
   },
   "outputs": [
    {
     "name": "stdout",
     "output_type": "stream",
     "text": [
      "Wall time: 13 s\n"
     ]
    },
    {
     "name": "stderr",
     "output_type": "stream",
     "text": [
      "C:\\ProgramData\\Anaconda3\\lib\\site-packages\\sklearn\\linear_model\\_logistic.py:762: ConvergenceWarning: lbfgs failed to converge (status=1):\n",
      "STOP: TOTAL NO. of ITERATIONS REACHED LIMIT.\n",
      "\n",
      "Increase the number of iterations (max_iter) or scale the data as shown in:\n",
      "    https://scikit-learn.org/stable/modules/preprocessing.html\n",
      "Please also refer to the documentation for alternative solver options:\n",
      "    https://scikit-learn.org/stable/modules/linear_model.html#logistic-regression\n",
      "  n_iter_i = _check_optimize_result(\n"
     ]
    },
    {
     "data": {
      "text/plain": [
       "Pipeline(steps=[('vect', CountVectorizer()), ('tfidf', TfidfTransformer()),\n",
       "                ('clf', LogisticRegression(C=100000.0, n_jobs=1))])"
      ]
     },
     "execution_count": 172,
     "metadata": {
      "tags": []
     },
     "output_type": "execute_result"
    }
   ],
   "source": [
    "%%time\n",
    "logreg.fit(X_train, y_train)"
   ]
  },
  {
   "cell_type": "code",
   "execution_count": null,
   "metadata": {
    "id": "K9L9snND8nb4",
    "outputId": "fbee8dec-482f-4bdb-f1d4-243bedadc016"
   },
   "outputs": [
    {
     "name": "stdout",
     "output_type": "stream",
     "text": [
      "Wall time: 591 ms\n"
     ]
    }
   ],
   "source": [
    "%%time\n",
    "y_pred = logreg.predict(X_test)"
   ]
  },
  {
   "cell_type": "code",
   "execution_count": null,
   "metadata": {
    "id": "GW7kEKZc8nb4",
    "outputId": "374c66da-a171-4fe0-f6ee-182936f3a38e"
   },
   "outputs": [
    {
     "name": "stdout",
     "output_type": "stream",
     "text": [
      "accuracy 0.9423333333333334\n",
      "                 precision    recall  f1-score   support\n",
      "\n",
      "    Путешествия       0.92      0.88      0.90       610\n",
      "       Ценности       0.91      0.94      0.92       584\n",
      "            Мир       0.97      0.98      0.97       626\n",
      "Наука и техника       0.97      0.98      0.98       591\n",
      "      Экономика       0.94      0.94      0.94       589\n",
      "\n",
      "       accuracy                           0.94      3000\n",
      "      macro avg       0.94      0.94      0.94      3000\n",
      "   weighted avg       0.94      0.94      0.94      3000\n",
      "\n"
     ]
    }
   ],
   "source": [
    "print('accuracy %s' % accuracy_score(y_pred, y_test))\n",
    "print(classification_report(y_test, y_pred,target_names=my_tags))"
   ]
  },
  {
   "cell_type": "markdown",
   "metadata": {
    "id": "W2EiNsG-8nb4"
   },
   "source": [
    "### Проверка на примерах новостей с сайта"
   ]
  },
  {
   "cell_type": "code",
   "execution_count": null,
   "metadata": {
    "id": "bEKrap9F8nb5"
   },
   "outputs": [],
   "source": [
    "econ_text = '''\n",
    "Доллар США считается символом надежности, безопасности и экономического процветания. \n",
    "Он занимает неоспоримое доминирующее положение в международной финансовой системе с середины XX века и производит \n",
    "впечатление непобедимого титана. Однако эра господства доллара как основной мировой резервной валюты медленно \n",
    "подходит к концу. Крупнейшие банки предрекают ему резкий спад уже в следующем году, а известный экономист \n",
    "Стивен Роуч уверен, что американская валюта может обесцениться на треть. \n",
    "Причинами обвала станут сокращение сбережений населения, рост государственного долга США и усиление Китая. \n",
    "Закат долларового диктата — в материале «Ленты.ру».\n",
    "Непомерные привилегии\n",
    "\n",
    "Успех американской экономики в XX веке был во многом обусловлен доминирующей ролью доллара. В свою очередь достижение этой роли стало результатом политического и военного превосходства, которое США приобрели после Первой мировой войны. До сих пор позиция доллара в мире финансов представляет собой главную основу процветания США. Однако в 2002 году наметилась долгосрочная тенденция к ослаблению американской валюты, которая наблюдается и по сей день.\n",
    "\n",
    "Действительно, последнее время доллар чувствует себя не очень хорошо. В частности, июль оказался очень сложным месяцем для американской валюты, которая обновила многомесячные, а в некоторых случаях и многолетние минимумы. Всего за месяц доллар подешевел на шесть процентов против фунта, на пять — по отношению к евро, на четыре — против швейцарского франка и австралийского доллара. Вдобавок валютные аналитики вполне допускают, что июль может оказаться для доллара худшим месяцем с точки зрения месячной динамики за последние десять лет.\n",
    "\n",
    "'''"
   ]
  },
  {
   "cell_type": "code",
   "execution_count": null,
   "metadata": {
    "id": "uPgQlPwi8nb6"
   },
   "outputs": [],
   "source": [
    "econ_text = remove_multiple_spaces(remove_numbers(remove_punctuation(econ_text.lower())))\n",
    "econ_text = remove_stop_words(econ_text)"
   ]
  },
  {
   "cell_type": "code",
   "execution_count": null,
   "metadata": {
    "id": "IbgYeVi28nb6",
    "outputId": "7b07a924-cad2-4559-c0b5-d504721dd461"
   },
   "outputs": [
    {
     "name": "stdout",
     "output_type": "stream",
     "text": [
      "Wall time: 1.2 s\n"
     ]
    }
   ],
   "source": [
    "%%time\n",
    "econ_text = lemmatize_text(econ_text)"
   ]
  },
  {
   "cell_type": "code",
   "execution_count": null,
   "metadata": {
    "id": "dWFltUf-8nb7",
    "outputId": "c206cf1c-ee30-4de2-9bbc-0981911a6c10"
   },
   "outputs": [
    {
     "data": {
      "text/plain": [
       "'доллар сша считаться символ надежность безопасность экономический процветание занимать неоспоримый доминировать положение международный финансовый система середина xx век производить впечатление непобедимый титан однако эра господство доллар основной мировой резервный валюта медленно подходить конец крупный банк предрекать резкий спад следующий год известный экономист стивен роуч уверенный американский валюта обесцениваться треть причина обвал становиться сокращение сбережение население рост государственный долг сша усиление китай закат долларовый диктат  —  материал лента ру непомерный привилегия успех американский экономика xx век многое обусловливать доминирующий роль доллар очередь достижение роль становиться результат политический военный превосходство который сша приобретать первый мировой война сей пора позиция доллар мир финансы представлять главный основа процветание сша однако год намечаться долгосрочный тенденция ослабление американский валюта который наблюдаться сей день действительно последний время доллар чувствовать очень частность июль оказываться очень сложный месяц американский валюта который обновлять многомесячный некоторый случай многолетний минимум месяц доллар подешеветь шесть процент против фунт пять  —  отношение евро четыре  —  против швейцарский франк австралийский доллар вдобавок валютный аналитик вполне допускать июль оказываться доллар плохой месяц точка зрение месячный динамика последний десять год \\n'"
      ]
     },
     "execution_count": 61,
     "metadata": {
      "tags": []
     },
     "output_type": "execute_result"
    }
   ],
   "source": [
    "econ_text"
   ]
  },
  {
   "cell_type": "code",
   "execution_count": null,
   "metadata": {
    "id": "uwB94tGs8nb7",
    "outputId": "92db0a4d-9111-42f7-ab4f-56f0cfc1acef"
   },
   "outputs": [
    {
     "data": {
      "text/plain": [
       "array(['Экономика'], dtype=object)"
      ]
     },
     "execution_count": 178,
     "metadata": {
      "tags": []
     },
     "output_type": "execute_result"
    }
   ],
   "source": [
    "ect_pred = logreg.predict([econ_text])\n",
    "ect_pred"
   ]
  },
  {
   "cell_type": "code",
   "execution_count": null,
   "metadata": {
    "id": "620fBeRO8nb7"
   },
   "outputs": [],
   "source": [
    "tech_text = '''\n",
    "Ученые Университета Аризоны в США открыли неизвестный принцип эволюции, согласно которому естественный отбор не может благоприятствовать сразу нескольким полезным мутациям, повышающим приспособленность организма к окружающей среде. Вместо этого он фокусируется только на том, что достаточно для выживания существа, и игнорирует другие возможности для улучшения. Об этом сообщается в статье в журнале Proceedings of the National Academy of Sciences.\n",
    "Исследователи спровоцировали несколько мутаций, которые «ломали» механизм трансляции у шести различных штаммов бактерии кишечной палочки Escherichia coli. Трансляция — это процесс, при котором заложенная в генах информация о нуклеотидной последовательности белков переносится к рибосомам и участвует в белковом синтезе. Известно, что более чем за 3,5 миллиарда лет эволюции механизм трансляции не претерпел существенных изменений.\n",
    "Ряд нефатальных мутаций, затрагивающих функционирование трансляционного процесса, должен с течением времени быть исправлен эволюцией. Для этого ученые заставили штаммы бактерий с различными изменениями конкурировать друг с другом, благодаря чему осуществлялся естественный отбор. Со временем внутри популяции накапливались полезные мутации, которые могли быть сохранены и использованы для улучшения трансляции.'''"
   ]
  },
  {
   "cell_type": "code",
   "execution_count": null,
   "metadata": {
    "id": "ndjiQvws8nb8"
   },
   "outputs": [],
   "source": [
    "tech_text = remove_multiple_spaces(remove_numbers(remove_punctuation(tech_text.lower())))\n",
    "tech_text = remove_stop_words(tech_text)\n",
    "#tech_text = lemmatize_text(tech_text)"
   ]
  },
  {
   "cell_type": "code",
   "execution_count": null,
   "metadata": {
    "id": "Rz1_XrdJ8nb9",
    "outputId": "42b2451c-acbc-4005-f808-8d29a48e9ce5"
   },
   "outputs": [
    {
     "data": {
      "text/plain": [
       "array(['Наука и техника'], dtype=object)"
      ]
     },
     "execution_count": 181,
     "metadata": {
      "tags": []
     },
     "output_type": "execute_result"
    }
   ],
   "source": [
    "tech_pred = logreg.predict([tech_text])\n",
    "tech_pred"
   ]
  },
  {
   "cell_type": "code",
   "execution_count": null,
   "metadata": {
    "id": "p6kyg_5U8nb9"
   },
   "outputs": [],
   "source": [
    "travel_text = '''\n",
    "Российские туристы с 1 августа могут беспрепятственно въезжать в Абхазию, а граждане этой страны — в Россию, соответствующее распоряжение об открытии границ между странами подписал премьер-министр России Михаил Мишустин.\n",
    "Границу уже свободно пересекают пешеходы и транспорт, все введенные ранее на фоне пандемии коронавируса ограничения сняты.\n",
    "При этом о своем намерении российские власти сообщили еще в пятницу, 31 июля — решение было принято по итогам заседания оперативного штаба по борьбе с распространением инфекции на основании заключений Роспотребнадзора и Минздрава России по оценке санитарно-эпидемиологической обстановки в стране, а также определения готовности объектов абхазской инфраструктуры к приему туристов.\n",
    "'''"
   ]
  },
  {
   "cell_type": "code",
   "execution_count": null,
   "metadata": {
    "id": "4YbNXgKM8nb-"
   },
   "outputs": [],
   "source": [
    "travel_text = remove_multiple_spaces(remove_numbers(remove_punctuation(travel_text.lower())))\n",
    "travel_text = remove_stop_words(travel_text)\n",
    "#travel_text = lemmatize_text(travel_text)"
   ]
  },
  {
   "cell_type": "code",
   "execution_count": null,
   "metadata": {
    "id": "ByOxnHB48nb-",
    "outputId": "d331ebe3-7963-443c-df9d-b46f30d14677"
   },
   "outputs": [
    {
     "data": {
      "text/plain": [
       "array(['Путешествия'], dtype=object)"
      ]
     },
     "execution_count": 184,
     "metadata": {
      "tags": []
     },
     "output_type": "execute_result"
    }
   ],
   "source": [
    "pred = logreg.predict([travel_text])\n",
    "pred"
   ]
  }
 ],
 "metadata": {
  "colab": {
   "name": "Копия блокнота \"multiclass.ipynb\"",
   "provenance": [],
   "toc_visible": true
  },
  "kernelspec": {
   "display_name": "Python 3",
   "language": "python",
   "name": "python3"
  },
  "language_info": {
   "codemirror_mode": {
    "name": "ipython",
    "version": 3
   },
   "file_extension": ".py",
   "mimetype": "text/x-python",
   "name": "python",
   "nbconvert_exporter": "python",
   "pygments_lexer": "ipython3",
   "version": "3.7.6"
  }
 },
 "nbformat": 4,
 "nbformat_minor": 0
}
